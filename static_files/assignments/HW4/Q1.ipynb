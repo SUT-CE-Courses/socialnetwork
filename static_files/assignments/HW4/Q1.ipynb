{
 "cells": [
  {
   "cell_type": "markdown",
   "id": "0259fffc",
   "metadata": {},
   "source": [
    "<img src=\"./sharif.png\" alt=\"SUT logo\" width=300 height=300 align=left class=\"saturate\">\n",
    "\n",
    "<br>\n",
    "<font>\n",
    "<div dir=ltr align=center>\n",
    "<font color=0F5298 size=7>\n",
    "    Social & Economic Networks <br> <br>\n",
    "<font color=2565AE size=5>\n",
    "    CE Department <br>\n",
    "    Spring 2025 - Dr. Ramezani<br>\n",
    "<font color=3C99D size=5>\n",
    "    HW4 Practical <br>\n",
    "    Recommender Systems<br>\n",
    "<font color=696880 size=4>\n",
    "    Shayan Shabani\n",
    "\n",
    "____"
   ]
  },
  {
   "cell_type": "markdown",
   "id": "44e0f5f0",
   "metadata": {},
   "source": [
    "# Practical Assignment: Recommender Systems\n",
    "\n",
    "**Objectives**  \n",
    "- Load and explore the MovieLens100k dataset  \n",
    "- Implement and compare several recommendation approaches:  \n",
    "  1. Content‐based Filtering  \n",
    "  2. Collaborative Filtering (user‐ & item‐based)  \n",
    "  3. Matrix Factorization via SVD  \n",
    "  4. Deep Learning based Collaborative Filtering (DeepCF)  \n",
    "\n",
    "**Instructions**  \n",
    "- Fill in the missing code cells.  \n",
    "- Answer any short questions in Markdown.  \n",
    "- Evaluate each method using RMSE (for rating prediction) and Precision@K / Recall@K (for top‐N recommendation).\n"
   ]
  },
  {
   "cell_type": "markdown",
   "id": "7a0f0c82",
   "metadata": {},
   "source": [
    "## 1. Setup & Load Data\n",
    "\n",
    "We will use `pandas` to read MovieLens100k files.  \n",
    "- Ratings: `u.data`  \n",
    "- Movie metadata (titles, genres): `u.item`\n",
    "\n",
    "Make sure you have downloaded and extracted the dataset in `./ml-100k/`.\n"
   ]
  },
  {
   "cell_type": "code",
   "execution_count": 1,
   "id": "cb759e9c",
   "metadata": {},
   "outputs": [],
   "source": [
    "# imports & file paths\n",
    "\n",
    "# Load"
   ]
  },
  {
   "cell_type": "markdown",
   "id": "0f897a1e",
   "metadata": {},
   "source": [
    "## 2. Exploratory Data Analysis (EDA)\n",
    "\n",
    "Perform basic EDA:\n",
    "1. #users, #movies, sparsity  \n",
    "2. Rating distribution  \n",
    "3. Genre popularity  \n",
    "4. User activity distribution  \n"
   ]
  },
  {
   "cell_type": "code",
   "execution_count": 2,
   "id": "1522dd01",
   "metadata": {},
   "outputs": [],
   "source": [
    "# 2.1 Basic stats\n",
    "\n",
    "# 2.2 Rating distribution\n",
    "\n",
    "# 2.3 Genre popularity\n",
    "\n",
    "# 2.4 User activity"
   ]
  },
  {
   "cell_type": "markdown",
   "id": "bcd0dba0",
   "metadata": {},
   "source": [
    "## 3. Content‐Based Filtering\n",
    "\n",
    "**Idea**: Represent each movie by its genre‐vector, compute TF‐IDF or binary vectors, then:\n",
    "1. Build user profile as a weighted average of the genre vectors of movies the user has rated.  \n",
    "2. Compute cosine similarity between user profile and each movie vector.  \n",
    "3. Recommend top‐N movies not yet rated by the user.\n",
    "\n",
    "We will:\n",
    "- Create a movie feature matrix $M\\in\\{0,1\\}^{m\\times g}$.  \n",
    "- For a user $u$, user profile:  \n",
    "  $$\\mathbf{p}_u = \\frac{1}{|\\mathcal{R}_u|} \\sum_{i\\in\\mathcal{R}_u} r_{u,i}\\,\\mathbf{m}_i$$  \n",
    "- Similarity: cosine$(\\mathbf{p}_u, \\mathbf{m}_j)$.\n"
   ]
  },
  {
   "cell_type": "code",
   "execution_count": 3,
   "id": "264e169c",
   "metadata": {},
   "outputs": [],
   "source": [
    "# 3.1 Build movie feature matrix\n",
    "\n",
    "# Optional: apply TF-IDF or scaling\n",
    "\n",
    "# 3.2 Compute user profile\n",
    "\n",
    "# Example: recommend for user 1\n",
    "\n",
    "# Mask out already rated"
   ]
  },
  {
   "cell_type": "markdown",
   "id": "c678433a",
   "metadata": {},
   "source": [
    "## 4. Collaborative Filtering\n",
    "\n",
    "### 4.1 User‐Based CF\n",
    "- Similarity between users, e.g. cosine on common ratings.\n",
    "- Prediction for user $u$ on item $i$:\n",
    "  $$\\hat r_{u,i} = \\bar r_u + \\frac{\\sum_{v\\in N(u)} \\text{sim}(u,v)(r_{v,i}-\\bar r_v)}{\\sum_{v\\in N(u)}|\\text{sim}(u,v)|}.$$\n",
    "\n",
    "### 4.2 Item‐Based CF\n",
    "- Similarity between items using their rating‐vectors.\n",
    "- Predict:\n",
    "  $$\\hat r_{u,i} = \\frac{\\sum_{j\\in R(u)} \\text{sim}(i,j)\\,r_{u,j}}{\\sum_{j\\in R(u)}|\\text{sim}(i,j)|}.$$\n",
    "\n",
    "Implement both, then compare RMSE on a held‐out test set.\n"
   ]
  },
  {
   "cell_type": "code",
   "execution_count": 5,
   "id": "ff3ef148",
   "metadata": {},
   "outputs": [],
   "source": [
    "# 4.1 Build utility matrix\n",
    "\n",
    "# 4.2 Compute user-user similarity\n",
    "\n",
    "# 4.3 Prediction functions\n",
    "\n",
    "# 4.4 Quick test"
   ]
  },
  {
   "cell_type": "markdown",
   "id": "dfac734f",
   "metadata": {},
   "source": [
    "## 5. Matrix Factorization via SVD\n",
    "\n",
    "We approximate the rating matrix $R\\in \\mathbb{R}^{n\\times m}$ by\n",
    "$$R \\approx U\\Sigma V^\\top,$$\n",
    "keeping only top-$k$ singular values.  Then\n",
    "$$\\hat R = U_k \\Sigma_k V_k^\\top.$$\n",
    "\n",
    "Implement:\n",
    "1. Center data (subtract user‐means).  \n",
    "2. Use `TruncatedSVD` from scikit‐learn or `numpy.linalg.svd`.  \n",
    "3. Reconstruct and add back means.  \n",
    "4. Evaluate RMSE on test set.\n"
   ]
  },
  {
   "cell_type": "code",
   "execution_count": null,
   "id": "ac81c518",
   "metadata": {},
   "outputs": [],
   "source": []
  },
  {
   "cell_type": "markdown",
   "id": "5b86e2ec",
   "metadata": {},
   "source": [
    "## 6. Deep Learning based CF (DeepCF)\n",
    "\n",
    "Make sure to read this paper: https://arxiv.org/pdf/1901.04704\n",
    "\n",
    "We will build a simple two‐tower model:\n",
    "- User tower: Embedding of `user_id`  \n",
    "- Item tower: Embedding of `movie_id`  \n",
    "- Merge (concatenate) → Dense layers → output rating (or probability of like).\n",
    "\n",
    "Loss: MSE for rating prediction, or binary cross‐entropy for implicit feedback."
   ]
  },
  {
   "cell_type": "code",
   "execution_count": null,
   "id": "42ffcbe3",
   "metadata": {},
   "outputs": [],
   "source": []
  },
  {
   "cell_type": "markdown",
   "id": "6a61e709",
   "metadata": {},
   "source": [
    "## 7. Evaluation & Discussion\n",
    "\n",
    "1. Compare RMSE of:  \n",
    "   - User‐based CF  \n",
    "   - Item‐based CF  \n",
    "   - SVD  \n",
    "   - DeepCF  \n",
    "2. For top‐N (N=10), compute Precision@10 and Recall@10 for each method (convert to implicit by thresholding ≥4).  \n",
    "3. Discuss strengths/weaknesses:  \n",
    "   - Scalability  \n",
    "   - Cold‐start  \n",
    "   - Interpretability  \n",
    "   - Quality of recommendations\n"
   ]
  },
  {
   "cell_type": "code",
   "execution_count": null,
   "id": "eac16161",
   "metadata": {},
   "outputs": [],
   "source": []
  }
 ],
 "metadata": {
  "kernelspec": {
   "display_name": "Python 3 (ipykernel)",
   "language": "python",
   "name": "python3"
  },
  "language_info": {
   "codemirror_mode": {
    "name": "ipython",
    "version": 3
   },
   "file_extension": ".py",
   "mimetype": "text/x-python",
   "name": "python",
   "nbconvert_exporter": "python",
   "pygments_lexer": "ipython3",
   "version": "3.10.9"
  }
 },
 "nbformat": 4,
 "nbformat_minor": 5
}
