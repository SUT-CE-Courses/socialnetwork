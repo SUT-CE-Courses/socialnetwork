{
 "cells": [
  {
   "cell_type": "markdown",
   "id": "f7b596f8",
   "metadata": {},
   "source": [
    "<img src=\"./sharif.png\" alt=\"SUT logo\" width=300 height=300 align=left class=\"saturate\">\n",
    "\n",
    "<br>\n",
    "<font>\n",
    "<div dir=ltr align=center>\n",
    "<font color=0F5298 size=7>\n",
    "    Social & Economic Networks <br> <br>\n",
    "<font color=2565AE size=5>\n",
    "    CE Department <br>\n",
    "    Spring 2025 - Dr. Ramezani<br>\n",
    "<font color=3C99D size=5>\n",
    "    HW4 Practical <br>\n",
    "    Network Inference<br>\n",
    "<font color=696880 size=4>\n",
    "    Shayan Shabani\n",
    "\n",
    "____"
   ]
  },
  {
   "cell_type": "markdown",
   "id": "cd91c9f7",
   "metadata": {},
   "source": [
    "Download the dataset from this folder in Drive: https://drive.google.com/drive/folders/19NjhWkNxCpHQGFQejSfpZj2-3E_LEbxC?usp=sharing\n",
    "\n",
    "Format input cascades:\n",
    "\n",
    "The cascades input file should have two blocks separated by a blank line. \n",
    "- A first block with a line per node. The format of every line is <id>,<name>\n",
    "- A second block with a line per cascade. The format of every line is <id>,<timestamp>,<id>,<timestamp>,<id>,<timestamp>..."
   ]
  },
  {
   "cell_type": "markdown",
   "id": "2e280f6c",
   "metadata": {},
   "source": [
    "Choose One of the below papers, implement and test it on the above dataset.\n",
    "\n",
    "papers:\n",
    "\n",
    "1. Inferring Networks of Diffusion and Influence: https://arxiv.org/pdf/1006.0234\n",
    "2. Learning influence probabilities in diffusion networks without timestamps: https://www.sciencedirect.com/science/article/abs/pii/S0096300325002280\n",
    "3. Learning Diffusions under Uncertainty: https://arxiv.org/pdf/2312.07942\n",
    "4. Uncovering the structure and temporal dynamics of information propagation: https://cs.stanford.edu/people/jure/pubs/netrate-netsci14.pdf\n",
    "5. Neural Diffusion Model for Microscopic Cascade Prediction: https://arxiv.org/pdf/1812.08933"
   ]
  },
  {
   "cell_type": "code",
   "execution_count": null,
   "id": "569571a9",
   "metadata": {},
   "outputs": [],
   "source": []
  },
  {
   "cell_type": "markdown",
   "id": "c14970d7",
   "metadata": {},
   "source": [
    "Answer the following questions:\n",
    "\n",
    "1. Summarize the proposed method of the article for solving the network inference problem.\n",
    "\n",
    "2. On what types of graphs will it perform poorly?\n",
    "\n",
    "3. Suggest three additional evaluation metrics (other than those mentioned in the article) for the experiments and explain why they are necessary.\n",
    "\n",
    "4. Report the accuracy of the method described in the article on the attached dataset as a practice."
   ]
  },
  {
   "cell_type": "code",
   "execution_count": null,
   "id": "49942206",
   "metadata": {},
   "outputs": [],
   "source": []
  }
 ],
 "metadata": {
  "kernelspec": {
   "display_name": "Python 3 (ipykernel)",
   "language": "python",
   "name": "python3"
  },
  "language_info": {
   "codemirror_mode": {
    "name": "ipython",
    "version": 3
   },
   "file_extension": ".py",
   "mimetype": "text/x-python",
   "name": "python",
   "nbconvert_exporter": "python",
   "pygments_lexer": "ipython3",
   "version": "3.10.9"
  }
 },
 "nbformat": 4,
 "nbformat_minor": 5
}
